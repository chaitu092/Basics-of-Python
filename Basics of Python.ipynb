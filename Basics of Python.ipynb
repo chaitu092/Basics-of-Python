{
 "cells": [
  {
   "cell_type": "markdown",
   "metadata": {},
   "source": [
    "# Introduction to Markdown\n",
    "## Introduction to Markdown\n",
    "### Introduction to Markdown\n",
    "#### Introduction to Markdown\n",
    "##### Introduction to Markdown"
   ]
  },
  {
   "cell_type": "markdown",
   "metadata": {},
   "source": [
    "### Introduction to Python Programming\n",
    "- Used as genral Pyrpose programming language\n",
    "- Functional Programming\n",
    "- Scripting Proframming and *Object Oriented Programming*\n",
    "- Introduced in yhe year of 1991 by **van gudio russum**\n",
    "- Maintained by ***Google***\n",
    "   - Used in ***Data Science***\n",
    "   - Used in ***Machine Learning***\n",
    "   - Used in **AI**"
   ]
  },
  {
   "cell_type": "markdown",
   "metadata": {},
   "source": [
    "# Image generation "
   ]
  },
  {
   "cell_type": "markdown",
   "metadata": {},
   "source": [
    "<img src = \"chaitu.jpg\"/>"
   ]
  },
  {
   "cell_type": "code",
   "execution_count": 21,
   "metadata": {},
   "outputs": [
    {
     "data": {
      "text/plain": [
       "'C:\\\\Users\\\\LENOVO'"
      ]
     },
     "execution_count": 21,
     "metadata": {},
     "output_type": "execute_result"
    }
   ],
   "source": [
    "pwd# Presnt working directory (which is a linux command)"
   ]
  },
  {
   "cell_type": "markdown",
   "metadata": {},
   "source": [
    "# Introduction"
   ]
  },
  {
   "cell_type": "code",
   "execution_count": 16,
   "metadata": {},
   "outputs": [
    {
     "name": "stdout",
     "output_type": "stream",
     "text": [
      "Welcome to Python\n"
     ]
    }
   ],
   "source": [
    "# print() is used to print othe group of characters on console screen\n",
    "print(\"Welcome to Python\")"
   ]
  },
  {
   "cell_type": "code",
   "execution_count": 17,
   "metadata": {},
   "outputs": [
    {
     "name": "stdout",
     "output_type": "stream",
     "text": [
      "Welcome to Python\n",
      "Welcome to Jupyter Notebook\n"
     ]
    }
   ],
   "source": [
    "print(\"Welcome to Python\")\n",
    "print(\"Welcome to Jupyter Notebook\")\n"
   ]
  },
  {
   "cell_type": "code",
   "execution_count": 19,
   "metadata": {},
   "outputs": [
    {
     "name": "stdout",
     "output_type": "stream",
     "text": [
      "Welcome to Python Welcome to Jupyter Notebook\n"
     ]
    }
   ],
   "source": [
    "# Here the , represents the concatination i.e is addition in C & C++ Languages\n",
    "print(\"Welcome to Python\",end = ' ')\n",
    "print(\"Welcome to Jupyter Notebook\")\n"
   ]
  },
  {
   "cell_type": "code",
   "execution_count": 20,
   "metadata": {},
   "outputs": [
    {
     "name": "stdout",
     "output_type": "stream",
     "text": [
      "Data AI\n"
     ]
    }
   ],
   "source": [
    "print(\"Data\",\"AI\")"
   ]
  },
  {
   "cell_type": "code",
   "execution_count": 22,
   "metadata": {},
   "outputs": [
    {
     "name": "stdout",
     "output_type": "stream",
     "text": [
      "15522200\n"
     ]
    }
   ],
   "source": [
    "a = 15522200 # int\n",
    "print(a)"
   ]
  },
  {
   "cell_type": "code",
   "execution_count": 23,
   "metadata": {},
   "outputs": [
    {
     "data": {
      "text/plain": [
       "int"
      ]
     },
     "execution_count": 23,
     "metadata": {},
     "output_type": "execute_result"
    }
   ],
   "source": [
    "type(a)"
   ]
  },
  {
   "cell_type": "code",
   "execution_count": 25,
   "metadata": {},
   "outputs": [
    {
     "name": "stdout",
     "output_type": "stream",
     "text": [
      "15522200 <class 'int'>\n"
     ]
    }
   ],
   "source": [
    "print(a,(type(a)))"
   ]
  },
  {
   "cell_type": "code",
   "execution_count": 26,
   "metadata": {},
   "outputs": [
    {
     "name": "stdout",
     "output_type": "stream",
     "text": [
      "1235.6547\n"
     ]
    }
   ],
   "source": [
    "f = 1235.6547\n",
    "print(f)"
   ]
  },
  {
   "cell_type": "code",
   "execution_count": 27,
   "metadata": {},
   "outputs": [
    {
     "data": {
      "text/plain": [
       "float"
      ]
     },
     "execution_count": 27,
     "metadata": {},
     "output_type": "execute_result"
    }
   ],
   "source": [
    "type(f)"
   ]
  },
  {
   "cell_type": "code",
   "execution_count": 28,
   "metadata": {},
   "outputs": [
    {
     "name": "stdout",
     "output_type": "stream",
     "text": [
      "1235.6547 <class 'float'>\n"
     ]
    }
   ],
   "source": [
    "print(f,type(f))"
   ]
  },
  {
   "cell_type": "markdown",
   "metadata": {},
   "source": [
    "# **NOTE**: In Python the data type is same for both ***CHARACTER*** and ***String*** "
   ]
  },
  {
   "cell_type": "code",
   "execution_count": 29,
   "metadata": {},
   "outputs": [
    {
     "name": "stdout",
     "output_type": "stream",
     "text": [
      "a <class 'str'>\n",
      "application <class 'str'>\n"
     ]
    }
   ],
   "source": [
    "s1 = 'a'\n",
    "s2 = 'application'\n",
    "print(s1,type(s1))\n",
    "print(s2,type(s2))"
   ]
  },
  {
   "cell_type": "markdown",
   "metadata": {},
   "source": [
    "## Type Conversions\n",
    "\n",
    "-int\n",
    "\n",
    "   -Input will be converted into integer format\n",
    "   \n",
    "-float\n",
    "\n",
    "   -Input will be converted into float format\n",
    "   \n",
    "-str()\n",
    "\n",
    "   --Input will be converted into string/char format"
   ]
  },
  {
   "cell_type": "code",
   "execution_count": 31,
   "metadata": {},
   "outputs": [
    {
     "name": "stdout",
     "output_type": "stream",
     "text": [
      "1234 <class 'str'>\n",
      "1234 <class 'int'>\n"
     ]
    }
   ],
   "source": [
    "s1 = \"1234\"\n",
    "print(s1,type(s1))\n",
    "a1 = int(s1)\n",
    "print(a1,type(a1))"
   ]
  },
  {
   "cell_type": "code",
   "execution_count": 39,
   "metadata": {},
   "outputs": [
    {
     "name": "stdout",
     "output_type": "stream",
     "text": [
      "160.1998 <class 'str'>\n",
      "160.1998 <class 'float'>\n",
      "160 <class 'int'>\n"
     ]
    }
   ],
   "source": [
    "a = \"160.1998\"\n",
    "print(a,type(a))\n",
    "s=float(a)\n",
    "print(s,type(s))\n",
    "v=int(s)\n",
    "print(v,type(v))"
   ]
  },
  {
   "cell_type": "markdown",
   "metadata": {},
   "source": [
    "## Input Method of PP\n",
    "\n",
    "- input() is used to read the input from console\n",
    "- It reads the input in terms of string format\n",
    "- Use any conversion method to have inputs\n",
    "   - int\n",
    "   - float"
   ]
  },
  {
   "cell_type": "code",
   "execution_count": 40,
   "metadata": {},
   "outputs": [
    {
     "name": "stdout",
     "output_type": "stream",
     "text": [
      " Enter Your Name Sai Chaitanya\n",
      "Your name is Sai Chaitanya\n"
     ]
    }
   ],
   "source": [
    "name = input(' Enter Your Name ')\n",
    "print(\"Your name is\",name)"
   ]
  },
  {
   "cell_type": "code",
   "execution_count": 41,
   "metadata": {},
   "outputs": [
    {
     "name": "stdout",
     "output_type": "stream",
     "text": [
      " Sai Chaitanya\n",
      "Your name is Sai Chaitanya\n"
     ]
    }
   ],
   "source": [
    "name = input(' ')\n",
    "print(\"Your name is\",name)"
   ]
  },
  {
   "cell_type": "code",
   "execution_count": 1,
   "metadata": {},
   "outputs": [
    {
     "name": "stdout",
     "output_type": "stream",
     "text": [
      "92\n",
      "92 <class 'str'>\n"
     ]
    }
   ],
   "source": [
    "num = input('')\n",
    "print(num,type(num))"
   ]
  },
  {
   "cell_type": "code",
   "execution_count": 2,
   "metadata": {},
   "outputs": [
    {
     "name": "stdout",
     "output_type": "stream",
     "text": [
      "92\n",
      "92 <class 'int'>\n"
     ]
    }
   ],
   "source": [
    "num = int(input(''))\n",
    "print(num,type(num))"
   ]
  },
  {
   "cell_type": "markdown",
   "metadata": {},
   "source": [
    "## Operators\n",
    "\n",
    "- ++ and -- will not work in python , Use += 1, -=1 **(Unary Operators)**\n",
    "- Symbols of &&,|| and ! will not work in python\n",
    "- Insted Use and or not\n",
    "- True and false can be used in Python **(bool operators)**\n",
    "- / and // Both can be used for Division\n",
    "- *  and **"
   ]
  },
  {
   "cell_type": "code",
   "execution_count": 3,
   "metadata": {},
   "outputs": [
    {
     "name": "stdout",
     "output_type": "stream",
     "text": [
      "3.3333333333333335\n",
      "3\n",
      "30\n",
      "1000\n"
     ]
    }
   ],
   "source": [
    "a = 10\n",
    "b = 3\n",
    "print(a/b)\n",
    "print(a//b)\n",
    "print(a*b)\n",
    "print(a**b)"
   ]
  },
  {
   "cell_type": "code",
   "execution_count": 4,
   "metadata": {},
   "outputs": [
    {
     "name": "stdout",
     "output_type": "stream",
     "text": [
      "False\n"
     ]
    }
   ],
   "source": [
    "a = 10\n",
    "b = (a>100) and (a<=10)\n",
    "print(b)"
   ]
  },
  {
   "cell_type": "markdown",
   "metadata": {},
   "source": [
    "## Control Flow Statements\n",
    "- Conditional Statements\n",
    "\n",
    " - if else (switch is removed)\n",
    "\n",
    "- Looping Statements\n",
    "\n",
    "   - while (do while is removed)\n",
    "\n",
    "   - for"
   ]
  },
  {
   "cell_type": "code",
   "execution_count": 8,
   "metadata": {},
   "outputs": [],
   "source": [
    "# we need to check the Indendations properly"
   ]
  },
  {
   "cell_type": "code",
   "execution_count": 9,
   "metadata": {},
   "outputs": [
    {
     "name": "stdout",
     "output_type": "stream",
     "text": [
      "No\n"
     ]
    }
   ],
   "source": [
    "a = 100\n",
    "if a>100:\n",
    "    print('Yes')\n",
    "else:\n",
    "    print('No')\n",
    "    "
   ]
  },
  {
   "cell_type": "code",
   "execution_count": 11,
   "metadata": {},
   "outputs": [
    {
     "name": "stdout",
     "output_type": "stream",
     "text": [
      "Yes\n"
     ]
    }
   ],
   "source": [
    "a = 1000\n",
    "if a>100:\n",
    "    print('Yes')\n",
    "else:\n",
    "    print('No')\n",
    "    "
   ]
  },
  {
   "cell_type": "code",
   "execution_count": 13,
   "metadata": {},
   "outputs": [],
   "source": [
    "# Here by default we are printing as True"
   ]
  },
  {
   "cell_type": "code",
   "execution_count": 14,
   "metadata": {},
   "outputs": [
    {
     "name": "stdout",
     "output_type": "stream",
     "text": [
      "Gitam\n"
     ]
    }
   ],
   "source": [
    "if True:\n",
    "    print('Gitam')\n",
    "else:\n",
    "    print('Hello')"
   ]
  },
  {
   "cell_type": "code",
   "execution_count": 15,
   "metadata": {},
   "outputs": [],
   "source": [
    "### Note: Python programming is always case sensitive"
   ]
  },
  {
   "cell_type": "code",
   "execution_count": 16,
   "metadata": {},
   "outputs": [],
   "source": [
    "# Read input as number and print \"Yes\" if it is perfectly divisible by 3 and 5 Otherwise Print \"No\""
   ]
  },
  {
   "cell_type": "code",
   "execution_count": 26,
   "metadata": {},
   "outputs": [
    {
     "name": "stdout",
     "output_type": "stream",
     "text": [
      " 72\n",
      "No\n"
     ]
    }
   ],
   "source": [
    "z = int(input(' '))\n",
    "if (z % 3 ==0 and z % 5 ==0):\n",
    "    print('Yes')\n",
    "else:\n",
    "    print(\"No\")\n",
    "    "
   ]
  },
  {
   "cell_type": "code",
   "execution_count": 25,
   "metadata": {},
   "outputs": [],
   "source": [
    "# Read the input as number and test whether it is Positive, Negative or Zero"
   ]
  },
  {
   "cell_type": "code",
   "execution_count": 28,
   "metadata": {},
   "outputs": [
    {
     "name": "stdout",
     "output_type": "stream",
     "text": [
      "Negative Number\n"
     ]
    }
   ],
   "source": [
    "a = -26\n",
    "if a > 0:\n",
    "    print(\"Postive Number\")\n",
    "elif a<0:\n",
    "    print(\"Negative Number\")\n",
    "elif a==0:\n",
    "    print(\"Zero\")\n",
    "    "
   ]
  },
  {
   "cell_type": "code",
   "execution_count": null,
   "metadata": {},
   "outputs": [],
   "source": [
    "# check for all conditions by n=110,n=120,n=130"
   ]
  },
  {
   "cell_type": "code",
   "execution_count": 34,
   "metadata": {},
   "outputs": [
    {
     "name": "stdout",
     "output_type": "stream",
     "text": [
      "Nothing\n"
     ]
    }
   ],
   "source": [
    "n = 100\n",
    "if n > 10:\n",
    "    print('Good')\n",
    "elif n > 20:\n",
    "    print('Better')\n",
    "elif n > 30:\n",
    "    print('Best')\n",
    "else:\n",
    "    print(\"Nothing\")"
   ]
  },
  {
   "cell_type": "markdown",
   "metadata": {},
   "source": [
    "- **ord() gives the character ASCII Number\n",
    "- ASCII for characters\n",
    "     - **A - Z -- 65 -90**\n",
    "     - **a - z -- 97 -122**\n",
    "     - **0 - 9 -- 48 - 57**\n",
    "     - ** Space -- 32**"
   ]
  },
  {
   "cell_type": "code",
   "execution_count": 40,
   "metadata": {},
   "outputs": [
    {
     "name": "stdout",
     "output_type": "stream",
     "text": [
      "65\n",
      "97\n",
      "48\n"
     ]
    }
   ],
   "source": [
    "print(ord('A'))\n",
    "print(ord('a'))\n",
    "print(ord('0'))"
   ]
  },
  {
   "cell_type": "code",
   "execution_count": 41,
   "metadata": {},
   "outputs": [],
   "source": [
    "# Read the input as character and Print wheather is \"Upper Case\",\"Lower Case\" or \"Digit\""
   ]
  },
  {
   "cell_type": "code",
   "execution_count": 4,
   "metadata": {},
   "outputs": [
    {
     "name": "stdout",
     "output_type": "stream",
     "text": [
      "a\n",
      "Lower Case\n"
     ]
    }
   ],
   "source": [
    "c = input('')\n",
    "if ord(c) >=65 and ord(c) <= 90:\n",
    "    print(\"Upper Case\")\n",
    "elif ord(c) >= 97 and ord(c) <= 122:\n",
    "    print(\"Lower Case\")\n",
    "elif ord(c) >= 48 and ord(c) <= 57:\n",
    "    print(\"Digit\")"
   ]
  },
  {
   "cell_type": "code",
   "execution_count": 1,
   "metadata": {},
   "outputs": [
    {
     "name": "stdout",
     "output_type": "stream",
     "text": [
      "A\n",
      "a\n",
      "0\n"
     ]
    }
   ],
   "source": [
    "# chr()  --- atakes the input as ASCII and Ouput represnts the Character\n",
    "print(chr(65))\n",
    "print(chr(97))\n",
    "print(chr(48))"
   ]
  },
  {
   "cell_type": "markdown",
   "metadata": {},
   "source": [
    "## Read the input as character and print the output as case change\n",
    "### A -- a\n",
    "### s -- S"
   ]
  },
  {
   "cell_type": "markdown",
   "metadata": {},
   "source": [
    "### conversion of lower case to upper case"
   ]
  },
  {
   "cell_type": "code",
   "execution_count": 12,
   "metadata": {},
   "outputs": [
    {
     "name": "stdout",
     "output_type": "stream",
     "text": [
      "e\n",
      "E\n"
     ]
    }
   ],
   "source": [
    "d = input('')\n",
    "if ord(d) >= 65 and ord(d) <= 90:\n",
    "    print(chr(ord(c)+32))\n",
    "elif ord(d) >= 97 and ord(d) <= 122:\n",
    "    print(chr(ord(d)-32))"
   ]
  },
  {
   "cell_type": "markdown",
   "metadata": {},
   "source": [
    "## Loop Statements While and for\n",
    "\n",
    "### while -- Does not know the fixed number of iterations\n",
    "\n",
    "### for -- knows the fixed number of iterations"
   ]
  },
  {
   "cell_type": "code",
   "execution_count": 15,
   "metadata": {},
   "outputs": [
    {
     "name": "stdout",
     "output_type": "stream",
     "text": [
      " 9\n",
      "1 2 3 4 5 6 7 8 9 "
     ]
    }
   ],
   "source": [
    "# Read the input as N and Print the Natural numbers from 1 to  N\n",
    "n = int(input(' '))\n",
    "i = 1\n",
    "while i <= n:\n",
    "    print(i,end=' ')\n",
    "    i += 1"
   ]
  },
  {
   "cell_type": "code",
   "execution_count": 16,
   "metadata": {},
   "outputs": [],
   "source": [
    "# Read the input as n and Print the output as sum of even numbers \n",
    "# from 1 to N\n",
    "# 10 -- 30\n",
    "# 15 -- 56\n"
   ]
  },
  {
   "cell_type": "code",
   "execution_count": 1,
   "metadata": {},
   "outputs": [
    {
     "ename": "SyntaxError",
     "evalue": "invalid syntax (<ipython-input-1-2847e06e7ce8>, line 11)",
     "output_type": "error",
     "traceback": [
      "\u001b[1;36m  File \u001b[1;32m\"<ipython-input-1-2847e06e7ce8>\"\u001b[1;36m, line \u001b[1;32m11\u001b[0m\n\u001b[1;33m    print(\"The sum of Even numbers 1 to entered number\", even_Sum))\u001b[0m\n\u001b[1;37m                                                                  ^\u001b[0m\n\u001b[1;31mSyntaxError\u001b[0m\u001b[1;31m:\u001b[0m invalid syntax\n"
     ]
    }
   ],
   "source": [
    "max=int(input(\"please enter the maximum value: \"))\n",
    "even_Sum=0\n",
    "odd_Sum=0\n",
    "num=1\n",
    "while (num<=max):\n",
    "    if (num%2==0):\n",
    "        even_Sum=even_Sum+num\n",
    "    else:\n",
    "        odd_Sum=odd_Sum+num\n",
    "    num+=1\n",
    "print(\"The sum of Even numbers 1 to entered number\", even_Sum))\n",
    "print(\"The sum of Even numbers 1 to entered number\", odd_Sum))\n",
    " "
   ]
  },
  {
   "cell_type": "code",
   "execution_count": 6,
   "metadata": {},
   "outputs": [
    {
     "name": "stdout",
     "output_type": "stream",
     "text": [
      " 10\n",
      "30\n"
     ]
    }
   ],
   "source": [
    "n = int(input(' '))\n",
    "i = 1\n",
    "s = 0\n",
    "while i <= n:\n",
    "    if i % 2 ==0:\n",
    "        s = s + i\n",
    "    i += 1   \n",
    "print(s)\n",
    "    \n",
    "    "
   ]
  },
  {
   "cell_type": "code",
   "execution_count": 7,
   "metadata": {},
   "outputs": [],
   "source": [
    "# Read the two numbers as input and Print the output in following\n",
    "# 2 5 - 1 2 3 4 5 1 2 3 4 5\n",
    "# 3 2 -- 1 2 1 2 1 2"
   ]
  },
  {
   "cell_type": "code",
   "execution_count": 9,
   "metadata": {},
   "outputs": [
    {
     "name": "stdout",
     "output_type": "stream",
     "text": [
      " 2\n",
      " 5\n",
      "1 2 3 4 5 1 2 3 4 5 "
     ]
    }
   ],
   "source": [
    "l = int(input(' '))\n",
    "n = int(input(' '))\n",
    "x = 0\n",
    "while x < l:\n",
    "    i = 1\n",
    "    while i <= n:\n",
    "        print(i,end = ' ')\n",
    "        i += 1\n",
    "    x += 1    \n",
    "\n"
   ]
  },
  {
   "cell_type": "code",
   "execution_count": 4,
   "metadata": {},
   "outputs": [
    {
     "name": "stdout",
     "output_type": "stream",
     "text": [
      "1889\n",
      "9 8 8 1 "
     ]
    }
   ],
   "source": [
    "# Read the Number as input and Print the print output as following\n",
    "# 145 -- 541\n",
    "# 1889 -- 9881\n",
    "\n",
    "num = int(input(''))\n",
    "while num != 0:\n",
    "    r = num % 10\n",
    "    print(r,end = ' ')\n",
    "    num = num  // 10\n"
   ]
  },
  {
   "cell_type": "code",
   "execution_count": 1,
   "metadata": {},
   "outputs": [
    {
     "name": "stdout",
     "output_type": "stream",
     "text": [
      "1889\n",
      "Nine Eight Eight One "
     ]
    }
   ],
   "source": [
    "# Read the input as Number and Print the Output as following\n",
    "# 145 -- Five Four One\n",
    "# 1889 -- Nine Eight Eight One\n",
    "\n",
    "# Note : As switch case is not possible in python, Solve using (if-elif-else)\n",
    "\n",
    "num = int(input(''))\n",
    "while num != 0:\n",
    "    r = num % 10\n",
    "    if r == 0:\n",
    "        print(\"Zero\", end = ' ')\n",
    "    elif r ==1:\n",
    "        print(\"One\", end = ' ')\n",
    "    elif r == 2:\n",
    "        print(\"Two\", end = ' ')\n",
    "    elif r == 3:\n",
    "        print(\"Three\", end = ' ')\n",
    "    elif r == 4:\n",
    "        print(\"Four\", end = ' ')\n",
    "    elif r == 5:\n",
    "        print(\"Five\", end = ' ')\n",
    "    elif r == 6:\n",
    "        print(\"Six\", end = ' ')\n",
    "    elif r == 7:\n",
    "        print(\"Seven\", end = ' ')\n",
    "    elif r == 8:\n",
    "        print(\"Eight\", end = ' ')\n",
    "    elif r == 9:\n",
    "        print(\"Nine\", end = ' ')\n",
    "    num = num // 10    "
   ]
  },
  {
   "cell_type": "markdown",
   "metadata": {},
   "source": [
    "## Functional Programming\n",
    "\n",
    "- A block of repeated calling statements called as function\n",
    "- A block of statements represents for particular task is called as function\n",
    "- A function makes programming more effective in terms of **Reuseability** and **Readability**\n",
    "- Function in python can be defined as **def** keyword\n",
    "- Write the function name always with **Camel Case**\n",
    "- Examples :- **fact() , isPalindrome() , isUserTest()**\n",
    "- Parameters of the function can be **Optional**\n",
    "- **Syntax:-** def funName(<Parameters>)\n",
    "               {\n",
    "                \n",
    "                    Statements\n",
    "                    return\n",
    "                    \n",
    "                }    "
   ]
  },
  {
   "cell_type": "code",
   "execution_count": 7,
   "metadata": {},
   "outputs": [],
   "source": [
    "# Read the number as input and Print the output as following\n",
    "# 145 --- Yes\n",
    "# 123 --- No\n",
    "# Hint :- Individual Digit factorial sum is same as original number then print \"Yes\" otherwise \"No\"\n",
    " # Example\n",
    "    # 145 -- 541\n",
    "    # 5! = 120\n",
    "    # 4! = 24\n",
    "    # 1! = 1\n",
    "    \n",
    "    # 120+24+1 = 145(\"Yes\")\n",
    "    \n",
    "    \n"
   ]
  },
  {
   "cell_type": "code",
   "execution_count": 8,
   "metadata": {},
   "outputs": [
    {
     "name": "stdout",
     "output_type": "stream",
     "text": [
      "145\n",
      "Yes\n"
     ]
    }
   ],
   "source": [
    "def fact(n):\n",
    "    f = 1\n",
    "    while n != 0:\n",
    "        f = f*n\n",
    "        n -= 1\n",
    "    return f\n",
    "def digitExtract(x):\n",
    "    sum = 0\n",
    "    while x != 0:\n",
    "        r = x % 10\n",
    "        sum += fact(r)\n",
    "        x = x // 10\n",
    "    return sum\n",
    "n = int(input())\n",
    "s = digitExtract(n)\n",
    "if n == s:\n",
    "    print(\"Yes\")\n",
    "else:\n",
    "    print(\"No\")\n",
    "    \n"
   ]
  },
  {
   "cell_type": "markdown",
   "metadata": {},
   "source": [
    "## For loop\n",
    "\n",
    "- range(5) prints the output as 0,1,2,3,4 Here range function will not consider the upper limit\n",
    "- range(1,11) -- start valur : 1 and end value : 10\n",
    "- range(0,11,2) -- start value : 0, end value : 10 and Step : 2"
   ]
  },
  {
   "cell_type": "code",
   "execution_count": 14,
   "metadata": {},
   "outputs": [
    {
     "name": "stdout",
     "output_type": "stream",
     "text": [
      "0 1 2 3 4 "
     ]
    }
   ],
   "source": [
    "for i in range(0,5):\n",
    "    print(i,end = ' ')\n"
   ]
  },
  {
   "cell_type": "code",
   "execution_count": 15,
   "metadata": {},
   "outputs": [
    {
     "name": "stdout",
     "output_type": "stream",
     "text": [
      "0 1 2 3 4 "
     ]
    }
   ],
   "source": [
    "for i in range(5):\n",
    "    print(i,end = ' ')\n"
   ]
  },
  {
   "cell_type": "code",
   "execution_count": 16,
   "metadata": {},
   "outputs": [
    {
     "name": "stdout",
     "output_type": "stream",
     "text": [
      "1 2 3 4 5 6 7 8 9 10 "
     ]
    }
   ],
   "source": [
    "for i in range(1,11):\n",
    "    print(i,end = ' ')\n"
   ]
  },
  {
   "cell_type": "code",
   "execution_count": 17,
   "metadata": {},
   "outputs": [
    {
     "name": "stdout",
     "output_type": "stream",
     "text": [
      "0 2 4 6 8 10 "
     ]
    }
   ],
   "source": [
    "for i in range(0,11,2):\n",
    "    print(i,end = ' ')\n"
   ]
  },
  {
   "cell_type": "code",
   "execution_count": 20,
   "metadata": {},
   "outputs": [
    {
     "name": "stdout",
     "output_type": "stream",
     "text": [
      "100 105 110 115 120 125 130 135 140 145 "
     ]
    }
   ],
   "source": [
    "# multiples of 5 between 1 and 150 (step count of 5 between 1 and 150)\n",
    "\n",
    "for i in range(100,150,5):\n",
    "    print(i,end = ' ')\n"
   ]
  },
  {
   "cell_type": "code",
   "execution_count": 3,
   "metadata": {},
   "outputs": [
    {
     "name": "stdout",
     "output_type": "stream",
     "text": [
      "10 9 8 7 6 5 4 3 2 1 0 "
     ]
    }
   ],
   "source": [
    "# print the numbers in reverse order using for loop\n",
    "# here 10 start value\n",
    "# -1 end value\n",
    "# -1 step count\n",
    "\n",
    "for i in range(10,-1,-1):\n",
    "    print(i,end = ' ')\n",
    "    "
   ]
  },
  {
   "cell_type": "code",
   "execution_count": 6,
   "metadata": {},
   "outputs": [
    {
     "name": "stdout",
     "output_type": "stream",
     "text": [
      "10 8 6 4 2 0 "
     ]
    }
   ],
   "source": [
    "\n",
    "for i in range(10,-1,-2):\n",
    "    print(i,end = ' ')"
   ]
  },
  {
   "cell_type": "code",
   "execution_count": 4,
   "metadata": {},
   "outputs": [
    {
     "name": "stdout",
     "output_type": "stream",
     "text": [
      "10 7 "
     ]
    }
   ],
   "source": [
    "\n",
    "for i in range(10,6,-3):\n",
    "    print(i,end = ' ')"
   ]
  },
  {
   "cell_type": "code",
   "execution_count": 5,
   "metadata": {},
   "outputs": [
    {
     "name": "stdout",
     "output_type": "stream",
     "text": [
      "10 8 "
     ]
    }
   ],
   "source": [
    "\n",
    "for i in range(10,6,-2):\n",
    "    print(i,end = ' ')"
   ]
  },
  {
   "cell_type": "code",
   "execution_count": 2,
   "metadata": {},
   "outputs": [
    {
     "name": "stdout",
     "output_type": "stream",
     "text": [
      "5\n"
     ]
    },
    {
     "data": {
      "text/plain": [
       "120"
      ]
     },
     "execution_count": 2,
     "metadata": {},
     "output_type": "execute_result"
    }
   ],
   "source": [
    "#  fact of number by using a for loop\n",
    "\n",
    "\n",
    "def fact(n):\n",
    "    f=1\n",
    "    for i in range(1,n+1):\n",
    "        f=f*i\n",
    "    return f\n",
    "num = int(input(' '))\n",
    "fact(num)\n",
    "    "
   ]
  },
  {
   "cell_type": "code",
   "execution_count": 11,
   "metadata": {},
   "outputs": [
    {
     "data": {
      "text/plain": [
       "71"
      ]
     },
     "execution_count": 11,
     "metadata": {},
     "output_type": "execute_result"
    }
   ],
   "source": [
    "# Even numbers from the range of two limits\n",
    "# ll(lower limit)\n",
    "# ul(upper limit)\n",
    "\n",
    "def fun1(ll,ul):\n",
    "    count = 0\n",
    "    for i in range(ll,ul+1,2):\n",
    "        count += 1\n",
    "    return count\n",
    "ll = 10\n",
    "ul = 150\n",
    "fun1(ll,ul)\n"
   ]
  },
  {
   "cell_type": "code",
   "execution_count": null,
   "metadata": {},
   "outputs": [],
   "source": []
  }
 ],
 "metadata": {
  "kernelspec": {
   "display_name": "Python 3",
   "language": "python",
   "name": "python3"
  },
  "language_info": {
   "codemirror_mode": {
    "name": "ipython",
    "version": 3
   },
   "file_extension": ".py",
   "mimetype": "text/x-python",
   "name": "python",
   "nbconvert_exporter": "python",
   "pygments_lexer": "ipython3",
   "version": "3.7.3"
  }
 },
 "nbformat": 4,
 "nbformat_minor": 2
}
